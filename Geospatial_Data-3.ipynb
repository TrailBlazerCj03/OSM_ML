{
 "cells": [
  {
   "cell_type": "code",
   "execution_count": null,
   "metadata": {},
   "outputs": [],
   "source": [
    "import pandas as pd\n",
    "import geopandas as gpd\n",
    "import osmnx as ox\n",
    "import folium\n",
    "import matplotlib.pyplot as plt\n",
    "import seaborn as sns"
   ]
  },
  {
   "cell_type": "markdown",
   "metadata": {},
   "source": [
    "# 1. Define the place of interest (POI)"
   ]
  },
  {
   "cell_type": "code",
   "execution_count": null,
   "metadata": {},
   "outputs": [],
   "source": [
    "place = \"Manhattan, United States\"\n",
    "graph = ox.graph_from_place(place, network_type=\"drive\")"
   ]
  },
  {
   "cell_type": "markdown",
   "metadata": {},
   "source": [
    "With the above two lines of code, OSMnx allows us to retrieve the street networks of the city quickly. The result is a Networkx class, and we convert it to Geopandas dataframe to further process the data."
   ]
  },
  {
   "cell_type": "code",
   "execution_count": null,
   "metadata": {},
   "outputs": [],
   "source": [
    "len(graph)"
   ]
  },
  {
   "cell_type": "markdown",
   "metadata": {},
   "source": [
    "# 2. Convert the data type"
   ]
  },
  {
   "cell_type": "code",
   "execution_count": null,
   "metadata": {},
   "outputs": [],
   "source": [
    "nodes, streets = ox.graph_to_gdfs(graph)\n",
    "streets.head()"
   ]
  },
  {
   "cell_type": "markdown",
   "metadata": {},
   "source": [
    "Now the graph has been converted to the familiar form of a pandas data frame with extra capability for Geographic data handling.\n",
    "Use Seanborn to do some basic visualization"
   ]
  },
  {
   "cell_type": "markdown",
   "metadata": {},
   "source": [
    "# 3. Data Visualization"
   ]
  },
  {
   "cell_type": "code",
   "execution_count": null,
   "metadata": {},
   "outputs": [],
   "source": [
    "#street\n",
    "street_type = pd.DataFrame(streets[\"highway\"].apply(pd.Series)[0].value_counts().reset_index())\n",
    "street_type.columns=[\"type\", \"count\"]\n",
    "\n",
    "fig, ax = plt.subplots(figsize=(12,10))\n",
    "\n",
    "sns.barplot(y=\"type\", x=\"count\", data=street_type, ax=ax)\n",
    "plt.tight_layout()\n"
   ]
  },
  {
   "cell_type": "code",
   "execution_count": null,
   "metadata": {},
   "outputs": [],
   "source": [
    "style = {'color': '#F7DC6F', 'weight':'1'}\n",
    "m = folium.Map([40.730610, -73.935242],\n",
    "               zoom_start=15,\n",
    "               tiles=\"CartoDb dark_matter\")\n",
    "\n",
    "folium.GeoJson(streets, style_function=lambda x: style).add_to(m)\n",
    "m.save(\"streets.html\")\n",
    "m"
   ]
  },
  {
   "cell_type": "code",
   "execution_count": null,
   "metadata": {},
   "outputs": [],
   "source": [
    "#Building Footprints\n",
    "bldg = ox.footprints_from_place(place)\n",
    "bldg.shape"
   ]
  },
  {
   "cell_type": "code",
   "execution_count": null,
   "metadata": {},
   "outputs": [],
   "source": [
    "cols = ['amenity', 'building', 'name', 'tourism']\n",
    "bldg[cols].head()"
   ]
  },
  {
   "cell_type": "code",
   "execution_count": null,
   "metadata": {},
   "outputs": [],
   "source": [
    "bldg_type = pd.DataFrame(bldg[\"amenity\"].apply(pd.Series)[0].value_counts().reset_index())\n",
    "\n",
    "bldg_type.columns=[\"type\", \"count\"]\n",
    "\n",
    "fig, ax = plt.subplots(figsize=(12,10))\n",
    "\n",
    "sns.barplot(y=\"type\", x=\"count\", data=bldg_type, ax=ax)\n",
    "plt.tight_layout()"
   ]
  },
  {
   "cell_type": "code",
   "execution_count": null,
   "metadata": {},
   "outputs": [],
   "source": [
    "style_buildings = {'color':'#6C3483 ', 'fillColor': '#6C3483 ', 'weight':'1', 'fillOpacity' : 1}\n",
    "\n",
    "b = folium.Map([40.730610, -73.935242],\n",
    "               zoom_start=15,\n",
    "               tiles=\"Stamen Toner\")\n",
    "\n",
    "folium.GeoJson(bldg[:1000], style_function=lambda x: style_buildings).add_to(b)\n",
    "b.save(\"buildings.html\")\n",
    "b"
   ]
  },
  {
   "cell_type": "code",
   "execution_count": null,
   "metadata": {},
   "outputs": [],
   "source": [
    "#Cafe https://wiki.openstreetmap.org/wiki/Key:amenity\n",
    "\n",
    "cafe = ox.pois_from_place(place, amenities = [\"cafe\"])\n",
    "cafe.head()"
   ]
  },
  {
   "cell_type": "code",
   "execution_count": null,
   "metadata": {},
   "outputs": [],
   "source": [
    "cafe_pt = cafe[cafe.geom_type == \"Point\"]"
   ]
  },
  {
   "cell_type": "code",
   "execution_count": null,
   "metadata": {
    "scrolled": true
   },
   "outputs": [],
   "source": [
    "c = folium.Map([40.730610, -73.935242], \n",
    "               zoom_start=10, \n",
    "               tiles=\"CartoDb dark_matter\")\n",
    "locs = zip(cafe_pt.geometry.y, cafe_pt.geometry.x)\n",
    "#folium.GeoJson(buildings, style_function=lambda x: style_buildings).add_to(m)\n",
    "for location in locs:\n",
    "    folium.CircleMarker(location=location, \n",
    "        color = \"#F4F6F7\",   radius=2).add_to(c)\n",
    "c.save(\"cafes.html\")\n",
    "c"
   ]
  },
  {
   "cell_type": "code",
   "execution_count": null,
   "metadata": {},
   "outputs": [],
   "source": []
  }
 ],
 "metadata": {
  "kernelspec": {
   "display_name": "Python 3",
   "language": "python",
   "name": "python3"
  },
  "language_info": {
   "codemirror_mode": {
    "name": "ipython",
    "version": 3
   },
   "file_extension": ".py",
   "mimetype": "text/x-python",
   "name": "python",
   "nbconvert_exporter": "python",
   "pygments_lexer": "ipython3",
   "version": "3.6.5"
  }
 },
 "nbformat": 4,
 "nbformat_minor": 2
}
